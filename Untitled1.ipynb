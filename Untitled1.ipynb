{
  "nbformat": 4,
  "nbformat_minor": 0,
  "metadata": {
    "colab": {
      "provenance": [],
      "authorship_tag": "ABX9TyOKGDvT0ChvIfLcx1h0qdgY",
      "include_colab_link": true
    },
    "kernelspec": {
      "name": "python3",
      "display_name": "Python 3"
    },
    "language_info": {
      "name": "python"
    }
  },
  "cells": [
    {
      "cell_type": "markdown",
      "metadata": {
        "id": "view-in-github",
        "colab_type": "text"
      },
      "source": [
        "<a href=\"https://colab.research.google.com/github/nayu104/DS_II/blob/main/Untitled1.ipynb\" target=\"_parent\"><img src=\"https://colab.research.google.com/assets/colab-badge.svg\" alt=\"Open In Colab\"/></a>"
      ]
    },
    {
      "cell_type": "markdown",
      "source": [
        "四則演算"
      ],
      "metadata": {
        "id": "GGdaXqiuBh0T"
      }
    },
    {
      "cell_type": "code",
      "execution_count": 3,
      "metadata": {
        "colab": {
          "base_uri": "https://localhost:8080/"
        },
        "id": "w7syj1Q19tzk",
        "outputId": "3b18efa0-cba0-4693-81d4-555dd286da2a"
      },
      "outputs": [
        {
          "output_type": "execute_result",
          "data": {
            "text/plain": [
              "3"
            ]
          },
          "metadata": {},
          "execution_count": 3
        }
      ],
      "source": [
        "1+2"
      ]
    },
    {
      "cell_type": "code",
      "source": [
        "(1+2*3-4)/5"
      ],
      "metadata": {
        "colab": {
          "base_uri": "https://localhost:8080/"
        },
        "id": "uGVXCxMA99_h",
        "outputId": "fffc0983-721a-45b8-81bb-5b6c4220c920"
      },
      "execution_count": 4,
      "outputs": [
        {
          "output_type": "execute_result",
          "data": {
            "text/plain": [
              "0.6"
            ]
          },
          "metadata": {},
          "execution_count": 4
        }
      ]
    },
    {
      "cell_type": "code",
      "source": [
        "5%2"
      ],
      "metadata": {
        "colab": {
          "base_uri": "https://localhost:8080/"
        },
        "id": "YX2njGaIBGHB",
        "outputId": "388f92b9-fa10-4dc0-8836-e6ae4d152d23"
      },
      "execution_count": 5,
      "outputs": [
        {
          "output_type": "execute_result",
          "data": {
            "text/plain": [
              "1"
            ]
          },
          "metadata": {},
          "execution_count": 5
        }
      ]
    },
    {
      "cell_type": "code",
      "source": [
        "2**8"
      ],
      "metadata": {
        "colab": {
          "base_uri": "https://localhost:8080/"
        },
        "id": "7eojWUo5BIhw",
        "outputId": "e7ee64e7-2459-4451-bcc0-5286e63b5194"
      },
      "execution_count": 6,
      "outputs": [
        {
          "output_type": "execute_result",
          "data": {
            "text/plain": [
              "256"
            ]
          },
          "metadata": {},
          "execution_count": 6
        }
      ]
    },
    {
      "cell_type": "markdown",
      "source": [
        "変数"
      ],
      "metadata": {
        "id": "ih_Izcg1BfQq"
      }
    },
    {
      "cell_type": "code",
      "source": [
        "x=1\n",
        "y=1/3\n",
        "x+y"
      ],
      "metadata": {
        "colab": {
          "base_uri": "https://localhost:8080/"
        },
        "id": "3evWA1diBKXo",
        "outputId": "38738bb4-1e02-4a1f-fc0d-c77280a7231a"
      },
      "execution_count": 7,
      "outputs": [
        {
          "output_type": "execute_result",
          "data": {
            "text/plain": [
              "1.3333333333333333"
            ]
          },
          "metadata": {},
          "execution_count": 7
        }
      ]
    },
    {
      "cell_type": "code",
      "source": [
        "Data_1 = 1/5\n",
        "Data_2 = 3/5\n",
        "Data_1 + Data_2"
      ],
      "metadata": {
        "colab": {
          "base_uri": "https://localhost:8080/"
        },
        "id": "IOzVKwtiBP4v",
        "outputId": "cece7fe4-15c5-4ec3-d303-66da45afa35e"
      },
      "execution_count": 8,
      "outputs": [
        {
          "output_type": "execute_result",
          "data": {
            "text/plain": [
              "0.8"
            ]
          },
          "metadata": {},
          "execution_count": 8
        }
      ]
    },
    {
      "cell_type": "markdown",
      "source": [
        "変数の型"
      ],
      "metadata": {
        "id": "1ZUJhKzEBnTb"
      }
    },
    {
      "cell_type": "code",
      "source": [
        "type(100)"
      ],
      "metadata": {
        "colab": {
          "base_uri": "https://localhost:8080/"
        },
        "id": "5gK4moEeBqVG",
        "outputId": "c8591053-715a-4517-f83e-1c16a8c2a868"
      },
      "execution_count": 9,
      "outputs": [
        {
          "output_type": "execute_result",
          "data": {
            "text/plain": [
              "int"
            ]
          },
          "metadata": {},
          "execution_count": 9
        }
      ]
    },
    {
      "cell_type": "code",
      "source": [
        "type(100.1)"
      ],
      "metadata": {
        "colab": {
          "base_uri": "https://localhost:8080/"
        },
        "id": "Kd-hovilBtSL",
        "outputId": "9c6b1ec7-d7e7-45cf-9a31-e1de8eaa5430"
      },
      "execution_count": 10,
      "outputs": [
        {
          "output_type": "execute_result",
          "data": {
            "text/plain": [
              "float"
            ]
          },
          "metadata": {},
          "execution_count": 10
        }
      ]
    },
    {
      "cell_type": "code",
      "source": [
        "x = 100\n",
        "type(x)"
      ],
      "metadata": {
        "colab": {
          "base_uri": "https://localhost:8080/"
        },
        "id": "HdMg6U2mBwZ5",
        "outputId": "b801f836-5bac-4e87-9be1-643a1ba08e8f"
      },
      "execution_count": 12,
      "outputs": [
        {
          "output_type": "execute_result",
          "data": {
            "text/plain": [
              "int"
            ]
          },
          "metadata": {},
          "execution_count": 12
        }
      ]
    },
    {
      "cell_type": "code",
      "source": [
        "x = 100.1\n",
        "type(x)"
      ],
      "metadata": {
        "colab": {
          "base_uri": "https://localhost:8080/"
        },
        "id": "vUXfGqMzBznl",
        "outputId": "ef8be28a-a728-4183-e26e-af11b0da40a4"
      },
      "execution_count": 13,
      "outputs": [
        {
          "output_type": "execute_result",
          "data": {
            "text/plain": [
              "float"
            ]
          },
          "metadata": {},
          "execution_count": 13
        }
      ]
    },
    {
      "cell_type": "code",
      "source": [
        "x = 'learning'\n",
        "type(x)"
      ],
      "metadata": {
        "colab": {
          "base_uri": "https://localhost:8080/"
        },
        "id": "iQ4qRFjOB2nK",
        "outputId": "43e32d86-6840-46cf-a0f7-1929485b916e"
      },
      "execution_count": 14,
      "outputs": [
        {
          "output_type": "execute_result",
          "data": {
            "text/plain": [
              "str"
            ]
          },
          "metadata": {},
          "execution_count": 14
        }
      ]
    },
    {
      "cell_type": "markdown",
      "source": [
        "print文"
      ],
      "metadata": {
        "id": "ApvHvLA8B7xG"
      }
    },
    {
      "cell_type": "code",
      "source": [
        "x = 1/3\n",
        "x\n",
        "y = 2/3\n",
        "y"
      ],
      "metadata": {
        "colab": {
          "base_uri": "https://localhost:8080/"
        },
        "id": "S0oiNcv0B-K1",
        "outputId": "43938fe2-f6d7-4fd9-c908-8a0a34c44c02"
      },
      "execution_count": 15,
      "outputs": [
        {
          "output_type": "execute_result",
          "data": {
            "text/plain": [
              "0.6666666666666666"
            ]
          },
          "metadata": {},
          "execution_count": 15
        }
      ]
    },
    {
      "cell_type": "code",
      "source": [
        "x = 1/3\n",
        "print(x)\n",
        "y = 2/3\n",
        "print(y)"
      ],
      "metadata": {
        "colab": {
          "base_uri": "https://localhost:8080/"
        },
        "id": "v7tHxr_eCFfp",
        "outputId": "0778ad31-8c29-44ba-b8e2-51422b638e13"
      },
      "execution_count": 16,
      "outputs": [
        {
          "output_type": "stream",
          "name": "stdout",
          "text": [
            "0.3333333333333333\n",
            "0.6666666666666666\n"
          ]
        }
      ]
    },
    {
      "cell_type": "markdown",
      "source": [
        "print文の使用例"
      ],
      "metadata": {
        "id": "zG8FszI1COmB"
      }
    },
    {
      "cell_type": "code",
      "source": [
        "print('x'+str(x))"
      ],
      "metadata": {
        "colab": {
          "base_uri": "https://localhost:8080/"
        },
        "id": "UZMNKAvxCS40",
        "outputId": "67cfa255-4bce-4a5d-fa12-d3d150de4fbc"
      },
      "execution_count": 17,
      "outputs": [
        {
          "output_type": "stream",
          "name": "stdout",
          "text": [
            "x0.3333333333333333\n"
          ]
        }
      ]
    },
    {
      "cell_type": "code",
      "source": [
        "print('weight = {0}kg'.format(x))"
      ],
      "metadata": {
        "colab": {
          "base_uri": "https://localhost:8080/"
        },
        "id": "B519ePMqChY_",
        "outputId": "c65a6c10-d7dc-41c2-f2bd-e9a2dbcc549c"
      },
      "execution_count": 18,
      "outputs": [
        {
          "output_type": "stream",
          "name": "stdout",
          "text": [
            "weight = 0.3333333333333333kg\n"
          ]
        }
      ]
    },
    {
      "cell_type": "code",
      "source": [
        "x = 1/3\n",
        "y = 1/7\n",
        "z = 1/4\n",
        "print('weight: {0} kg,{1} kg, {2}kg'.format(x,y,z))"
      ],
      "metadata": {
        "colab": {
          "base_uri": "https://localhost:8080/"
        },
        "id": "9VOcxdIPCzOx",
        "outputId": "52c422ed-e3fb-460b-e0c7-6cb282b997e9"
      },
      "execution_count": 29,
      "outputs": [
        {
          "output_type": "stream",
          "name": "stdout",
          "text": [
            "weight: 0.3333333333333333 kg,0.14285714285714285 kg, 0.25kg\n"
          ]
        }
      ]
    },
    {
      "cell_type": "code",
      "source": [
        "print('weight: {0:.2f}kg, y={1:.2f}kg, z={2:.2f}kg'.format(x,y,z))"
      ],
      "metadata": {
        "colab": {
          "base_uri": "https://localhost:8080/"
        },
        "id": "ZRaHDBuRDPll",
        "outputId": "66cdfa1f-6f77-4ad1-8a8a-0b05166d49d5"
      },
      "execution_count": 21,
      "outputs": [
        {
          "output_type": "stream",
          "name": "stdout",
          "text": [
            "weight: 0.33kg, y=0.14kg, z=0.25kg\n"
          ]
        }
      ]
    },
    {
      "cell_type": "markdown",
      "source": [
        "list型"
      ],
      "metadata": {
        "id": "bBZP_e8xDq2h"
      }
    },
    {
      "cell_type": "code",
      "source": [
        "x = [1,1,2,3,5]\n",
        "print(x)"
      ],
      "metadata": {
        "colab": {
          "base_uri": "https://localhost:8080/"
        },
        "id": "RyJ0NYgpDs2u",
        "outputId": "1b082c55-2cf5-4fe1-a126-bbb0c83a9477"
      },
      "execution_count": 23,
      "outputs": [
        {
          "output_type": "stream",
          "name": "stdout",
          "text": [
            "[1, 1, 2, 3, 5]\n"
          ]
        }
      ]
    },
    {
      "cell_type": "code",
      "source": [
        "x[0]"
      ],
      "metadata": {
        "colab": {
          "base_uri": "https://localhost:8080/"
        },
        "id": "uywg7rvYD7Wb",
        "outputId": "4a64ed19-7781-4d20-84b1-fc1b10e97f48"
      },
      "execution_count": 24,
      "outputs": [
        {
          "output_type": "execute_result",
          "data": {
            "text/plain": [
              "1"
            ]
          },
          "metadata": {},
          "execution_count": 24
        }
      ]
    },
    {
      "cell_type": "code",
      "source": [
        "x[2]"
      ],
      "metadata": {
        "colab": {
          "base_uri": "https://localhost:8080/"
        },
        "id": "cGyB4xb9D-uv",
        "outputId": "5b4b6ed6-5e71-4b47-a2f0-b2b736850014"
      },
      "execution_count": 25,
      "outputs": [
        {
          "output_type": "execute_result",
          "data": {
            "text/plain": [
              "2"
            ]
          },
          "metadata": {},
          "execution_count": 25
        }
      ]
    },
    {
      "cell_type": "code",
      "source": [
        "print(type(x))\n",
        "print(type(x[0]))"
      ],
      "metadata": {
        "colab": {
          "base_uri": "https://localhost:8080/"
        },
        "id": "iWOJd5OREBbX",
        "outputId": "ef50fd6d-a963-41ac-8770-25f89bd06880"
      },
      "execution_count": 26,
      "outputs": [
        {
          "output_type": "stream",
          "name": "stdout",
          "text": [
            "<class 'list'>\n",
            "<class 'int'>\n"
          ]
        }
      ]
    },
    {
      "cell_type": "code",
      "source": [
        "from re import T\n",
        "s=['SUN',1,'MON',2]\n",
        "print(type(s[0]))\n",
        "print(type(s[1]))"
      ],
      "metadata": {
        "colab": {
          "base_uri": "https://localhost:8080/"
        },
        "id": "GndcLR9AELkn",
        "outputId": "bb40e405-29a3-4140-9c8b-681652b99909"
      },
      "execution_count": 27,
      "outputs": [
        {
          "output_type": "stream",
          "name": "stdout",
          "text": [
            "<class 'str'>\n",
            "<class 'int'>\n"
          ]
        }
      ]
    },
    {
      "cell_type": "code",
      "source": [
        "a=[[1,2,3],[4,5,6]]\n",
        "print(a)"
      ],
      "metadata": {
        "colab": {
          "base_uri": "https://localhost:8080/"
        },
        "id": "lZe0azD1EdWz",
        "outputId": "07c8b6fb-1534-4dc7-f871-61d46890de46"
      },
      "execution_count": 28,
      "outputs": [
        {
          "output_type": "stream",
          "name": "stdout",
          "text": [
            "[[1, 2, 3], [4, 5, 6]]\n"
          ]
        }
      ]
    },
    {
      "cell_type": "code",
      "source": [
        "a=[[1,2,3],[4,5,6]]\n",
        "print(a[0][1])"
      ],
      "metadata": {
        "colab": {
          "base_uri": "https://localhost:8080/"
        },
        "id": "rvV47JAxEmKu",
        "outputId": "131ba51c-f32d-4de1-aa8e-6cc732344d52"
      },
      "execution_count": 30,
      "outputs": [
        {
          "output_type": "stream",
          "name": "stdout",
          "text": [
            "2\n"
          ]
        }
      ]
    },
    {
      "cell_type": "code",
      "source": [
        "x=[1,1,3,5]\n",
        "x[3] = 100\n",
        "print(x)"
      ],
      "metadata": {
        "colab": {
          "base_uri": "https://localhost:8080/"
        },
        "id": "T-8vZhqkFAkG",
        "outputId": "8b60e7bb-1822-4884-e72c-0a70432653fc"
      },
      "execution_count": 31,
      "outputs": [
        {
          "output_type": "stream",
          "name": "stdout",
          "text": [
            "[1, 1, 3, 100]\n"
          ]
        }
      ]
    },
    {
      "cell_type": "code",
      "source": [
        "x=[1,1,2,3,5]\n",
        "len(x)"
      ],
      "metadata": {
        "colab": {
          "base_uri": "https://localhost:8080/"
        },
        "id": "hXy-4-9MFIzq",
        "outputId": "71880508-791a-4a49-9cc9-34cb98214b7f"
      },
      "execution_count": 32,
      "outputs": [
        {
          "output_type": "execute_result",
          "data": {
            "text/plain": [
              "5"
            ]
          },
          "metadata": {},
          "execution_count": 32
        }
      ]
    },
    {
      "cell_type": "markdown",
      "source": [
        "if文"
      ],
      "metadata": {
        "id": "OtCmUH2fFOI2"
      }
    },
    {
      "cell_type": "code",
      "source": [
        "x = 11\n",
        "if x > 10:\n",
        "    print('x is')\n",
        "    print('larger than 10.')\n",
        "else:\n",
        "    print('x is smaller than 11')"
      ],
      "metadata": {
        "colab": {
          "base_uri": "https://localhost:8080/"
        },
        "id": "IU-L1R0SFQpY",
        "outputId": "16b06a28-f54f-440a-cf70-4fb0c92bf0aa"
      },
      "execution_count": 33,
      "outputs": [
        {
          "output_type": "stream",
          "name": "stdout",
          "text": [
            "x is\n",
            "larger than 10.\n"
          ]
        }
      ]
    },
    {
      "cell_type": "code",
      "source": [
        "x>10"
      ],
      "metadata": {
        "colab": {
          "base_uri": "https://localhost:8080/"
        },
        "id": "HMNgeFJ6Ftgn",
        "outputId": "189a1c3c-5366-4050-806c-0209ff9687fd"
      },
      "execution_count": 34,
      "outputs": [
        {
          "output_type": "execute_result",
          "data": {
            "text/plain": [
              "True"
            ]
          },
          "metadata": {},
          "execution_count": 34
        }
      ]
    },
    {
      "cell_type": "code",
      "source": [
        "type(x>10)"
      ],
      "metadata": {
        "colab": {
          "base_uri": "https://localhost:8080/"
        },
        "id": "TmFlFpLhFzEf",
        "outputId": "68332d63-7cd4-483a-b7a2-55619919a3a5"
      },
      "execution_count": 35,
      "outputs": [
        {
          "output_type": "execute_result",
          "data": {
            "text/plain": [
              "bool"
            ]
          },
          "metadata": {},
          "execution_count": 35
        }
      ]
    },
    {
      "cell_type": "code",
      "source": [
        "x = 15\n",
        "if 10 <= x and x <= 20:\n",
        "  print('x is between 10 and 20.')"
      ],
      "metadata": {
        "colab": {
          "base_uri": "https://localhost:8080/"
        },
        "id": "GnfhWJgJF3fS",
        "outputId": "c89c71c0-a70a-4cf1-86fd-1d98d1c41ee8"
      },
      "execution_count": 36,
      "outputs": [
        {
          "output_type": "stream",
          "name": "stdout",
          "text": [
            "x is between 10 and 20.\n"
          ]
        }
      ]
    },
    {
      "cell_type": "markdown",
      "source": [
        "for文"
      ],
      "metadata": {
        "id": "tm1eFDauGN4s"
      }
    },
    {
      "cell_type": "code",
      "source": [
        "for i in [1,2,3]:\n",
        "  print(i)"
      ],
      "metadata": {
        "colab": {
          "base_uri": "https://localhost:8080/"
        },
        "id": "gINql1XoGPg6",
        "outputId": "1d07d437-0a60-49f8-af93-0bfb8f94c343"
      },
      "execution_count": 37,
      "outputs": [
        {
          "output_type": "stream",
          "name": "stdout",
          "text": [
            "1\n",
            "2\n",
            "3\n"
          ]
        }
      ]
    },
    {
      "cell_type": "code",
      "source": [
        "num = [2,4,6,8,10]\n",
        "for i in range(len(num)):\n",
        "  num[i] = num[i]*2\n",
        "print(num)"
      ],
      "metadata": {
        "colab": {
          "base_uri": "https://localhost:8080/"
        },
        "id": "fTMcRp3_GWHV",
        "outputId": "2dc03cec-e79c-4438-fd7e-e33ff053545d"
      },
      "execution_count": 39,
      "outputs": [
        {
          "output_type": "stream",
          "name": "stdout",
          "text": [
            "[4, 8, 12, 16, 20]\n"
          ]
        }
      ]
    },
    {
      "cell_type": "code",
      "source": [
        "num = [2,4,6,8,10]\n",
        "for i,n in enumerate(num):\n",
        "  num[i] = n*2\n",
        "print(num)"
      ],
      "metadata": {
        "colab": {
          "base_uri": "https://localhost:8080/"
        },
        "id": "tBaXl28aGyYR",
        "outputId": "a12f56ac-3967-4913-fd7d-b5f884175690"
      },
      "execution_count": 40,
      "outputs": [
        {
          "output_type": "stream",
          "name": "stdout",
          "text": [
            "[4, 8, 12, 16, 20]\n"
          ]
        }
      ]
    },
    {
      "cell_type": "markdown",
      "source": [
        "numpy配列"
      ],
      "metadata": {
        "id": "QyKtm4dJG_yc"
      }
    }
  ]
}